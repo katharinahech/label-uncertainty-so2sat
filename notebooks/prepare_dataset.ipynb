{
 "cells": [
  {
   "cell_type": "code",
   "id": "initial_id",
   "metadata": {
    "collapsed": true,
    "ExecuteTime": {
     "end_time": "2024-07-03T06:36:10.033919Z",
     "start_time": "2024-07-03T06:36:10.029680Z"
    }
   },
   "source": [
    "from src import prepare_data\n",
    "import importlib\n",
    "\n",
    "importlib.reload(prepare_data)\n",
    "\n",
    "from src.prepare_data import *\n",
    "import numpy as np \n",
    "import pandas as pd"
   ],
   "outputs": [],
   "execution_count": 74
  },
  {
   "metadata": {
    "ExecuteTime": {
     "end_time": "2024-07-03T06:36:11.007828Z",
     "start_time": "2024-07-03T06:36:11.002764Z"
    }
   },
   "cell_type": "code",
   "source": [
    "overall_list = ['berlin', 'cologne', 'guangzhou', 'islamabad', 'jakarta',\n",
    "                'london', 'losangeles', 'madrid', 'milan', 'moscow', 'mumbai', 'munich',\n",
    "                'nairobi', 'paris', 'riodejaneiro', 'rome', 'zurich']\n",
    "\n",
    "city_list = ['berlin', 'cologne', 'london', 'madrid',\n",
    "             'milan', 'munich', 'paris', 'rome', 'zurich']\n",
    "\n",
    "addon_list = ['guangzhou', 'islamabad', 'jakarta', 'losangeles', 'moscow',\n",
    "              'mumbai', 'nairobi', 'riodejaneiro']\n",
    "\n",
    "path = \"/Users/katharina/Documents/PhD/Data/LCZ_Votes/votes/\""
   ],
   "id": "ebc080fc1037d1cf",
   "outputs": [],
   "execution_count": 75
  },
  {
   "metadata": {
    "ExecuteTime": {
     "end_time": "2024-07-03T06:37:19.445069Z",
     "start_time": "2024-07-03T06:36:16.380012Z"
    }
   },
   "cell_type": "code",
   "source": [
    "# create dataframes\n",
    "\n",
    "all_cities_named, all_cities, cities_one_hot_named, cities_one_hot = get_dataframes(city_list, path)"
   ],
   "id": "7f38f254927fe404",
   "outputs": [],
   "execution_count": 77
  },
  {
   "metadata": {
    "ExecuteTime": {
     "end_time": "2024-07-03T06:44:12.748955Z",
     "start_time": "2024-07-03T06:44:12.691389Z"
    }
   },
   "cell_type": "code",
   "source": [
    "# drop LCZ 7 -> no annotations \n",
    "\n",
    "ind_7 = np.where(all_cities==7)[0]\n",
    "\n",
    "cities_one_hot_16 = np.delete(cities_one_hot, ind_7, axis=0)\n",
    "cities_one_hot_16 = np.delete(cities_one_hot_16, 6, axis=1)\n",
    "\n",
    "all_cities_16_o = np.delete(all_cities, ind_7,axis=0)-1\n",
    "df = pd.DataFrame(all_cities_16_o)\n",
    "df = df.where(df < 7, df-1)\n",
    "all_cities_16 = np.array(df)\n",
    "\n",
    "cities_one_hot_named_16 = cities_one_hot_named.drop(ind_7)\n",
    "cities_one_hot_named_16 = cities_one_hot_named_16.drop(columns=[6])"
   ],
   "id": "1362ff45ee3a3d41",
   "outputs": [],
   "execution_count": 79
  },
  {
   "metadata": {
    "ExecuteTime": {
     "end_time": "2024-07-03T07:11:37.181483Z",
     "start_time": "2024-07-03T07:11:35.012120Z"
    }
   },
   "cell_type": "code",
   "source": [
    "# save datasets \n",
    "\n",
    "pd.DataFrame(cities_one_hot).to_csv(\"/Users/katharina/Documents/PhD/Scripts_Paper_1/label_uncertainty_so2sat/data/cities_one_hot.csv\", index=False)\n",
    "pd.DataFrame(cities_one_hot_named).to_csv(\"/Users/katharina/Documents/PhD/Scripts_Paper_1/label_uncertainty_so2sat/data/cities_one_hot_named.csv\", index=False)\n",
    "pd.DataFrame(cities_one_hot_16).to_csv(\"/Users/katharina/Documents/PhD/Scripts_Paper_1/label_uncertainty_so2sat/data/cities_one_hot_16.csv\", index=False)\n",
    "pd.DataFrame(cities_one_hot_named_16).to_csv(\"/Users/katharina/Documents/PhD/Scripts_Paper_1/label_uncertainty_so2sat/data/cities_one_hot_named_16.csv\", index=False)\n",
    "\n",
    "pd.DataFrame(all_cities).to_csv(\"/Users/katharina/Documents/PhD/Scripts_Paper_1/label_uncertainty_so2sat/data/all_cities.csv\", index=False)\n",
    "pd.DataFrame(all_cities_16).to_csv(\"/Users/katharina/Documents/PhD/Scripts_Paper_1/label_uncertainty_so2sat/data/all_cities_16.csv\", index=False)\n",
    "pd.DataFrame(all_cities_named).to_csv(\"/Users/katharina/Documents/PhD/Scripts_Paper_1/label_uncertainty_so2sat/data/all_cities_named.csv\", index=False)"
   ],
   "id": "3ef77d90c7445670",
   "outputs": [],
   "execution_count": 83
  }
 ],
 "metadata": {
  "kernelspec": {
   "display_name": "Python 3",
   "language": "python",
   "name": "python3"
  },
  "language_info": {
   "codemirror_mode": {
    "name": "ipython",
    "version": 2
   },
   "file_extension": ".py",
   "mimetype": "text/x-python",
   "name": "python",
   "nbconvert_exporter": "python",
   "pygments_lexer": "ipython2",
   "version": "2.7.6"
  }
 },
 "nbformat": 4,
 "nbformat_minor": 5
}
