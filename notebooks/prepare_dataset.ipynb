{
 "cells": [
  {
   "cell_type": "code",
   "id": "initial_id",
   "metadata": {
    "collapsed": true,
    "ExecuteTime": {
     "end_time": "2024-07-18T05:23:50.590508Z",
     "start_time": "2024-07-18T05:23:50.576401Z"
    }
   },
   "source": [
    "from src import prepare_data\n",
    "import importlib\n",
    "\n",
    "importlib.reload(prepare_data)\n",
    "\n",
    "from src.prepare_data import *\n",
    "import numpy as np \n",
    "import pandas as pd"
   ],
   "outputs": [],
   "execution_count": 10
  },
  {
   "metadata": {
    "ExecuteTime": {
     "end_time": "2024-07-18T05:23:52.948516Z",
     "start_time": "2024-07-18T05:23:52.943404Z"
    }
   },
   "cell_type": "code",
   "source": [
    "overall_list = ['berlin', 'cologne', 'guangzhou', 'islamabad', 'jakarta',\n",
    "                'london', 'losangeles', 'madrid', 'milan', 'moscow', 'mumbai', 'munich',\n",
    "                'nairobi', 'paris', 'riodejaneiro', 'rome', 'zurich']\n",
    "\n",
    "city_list = ['berlin', 'cologne', 'london', 'madrid',\n",
    "             'milan', 'munich', 'paris', 'rome', 'zurich']\n",
    "\n",
    "addon_list = ['guangzhou', 'islamabad', 'jakarta', 'losangeles', 'moscow',\n",
    "              'mumbai', 'nairobi', 'riodejaneiro']\n",
    "\n",
    "path = \"/Users/katharina/Documents/PhD/Data/LCZ_Votes/votes/\""
   ],
   "id": "ebc080fc1037d1cf",
   "outputs": [],
   "execution_count": 11
  },
  {
   "metadata": {
    "ExecuteTime": {
     "end_time": "2024-07-18T05:26:10.227260Z",
     "start_time": "2024-07-18T05:25:04.610838Z"
    }
   },
   "cell_type": "code",
   "source": [
    "# create dataframes\n",
    "\n",
    "votes_c, votes, one_hot_c, one_hot = get_dataframes(city_list, path)"
   ],
   "id": "7f38f254927fe404",
   "outputs": [],
   "execution_count": 12
  },
  {
   "metadata": {
    "ExecuteTime": {
     "end_time": "2024-07-18T05:26:15.519845Z",
     "start_time": "2024-07-18T05:26:15.467116Z"
    }
   },
   "cell_type": "code",
   "source": [
    "# drop LCZ 7 -> no annotations \n",
    "\n",
    "ind_7 = np.where(votes==7)[0]\n",
    "\n",
    "one_hot_16 = np.delete(one_hot, ind_7, axis=0)\n",
    "one_hot_16 = np.delete(one_hot_16, 6, axis=1)\n",
    "\n",
    "votes_16_o = np.delete(votes, ind_7,axis=0)-1\n",
    "df = pd.DataFrame(votes_16_o)\n",
    "df = df.where(df < 7, df-1)\n",
    "votes_16 = np.array(df)\n",
    "\n",
    "one_hot_c_16 = one_hot_c.drop(ind_7)\n",
    "one_hot_c_16 = one_hot_c.drop(columns=[6])"
   ],
   "id": "1362ff45ee3a3d41",
   "outputs": [],
   "execution_count": 13
  },
  {
   "metadata": {
    "ExecuteTime": {
     "end_time": "2024-07-18T05:27:03.993402Z",
     "start_time": "2024-07-18T05:27:01.863344Z"
    }
   },
   "cell_type": "code",
   "source": [
    "# save datasets \n",
    "\n",
    "pd.DataFrame(cities_one_hot).to_csv(\"../data/one_hot.csv\", index=False)\n",
    "pd.DataFrame(cities_one_hot_named).to_csv(\"../data/one_hot_c.csv\", index=False)\n",
    "pd.DataFrame(cities_one_hot_16).to_csv(\"../data/one_hot_16.csv\", index=False)\n",
    "pd.DataFrame(cities_one_hot_named_16).to_csv(\"../data/one_hot_c_16.csv\", index=False)\n",
    "\n",
    "pd.DataFrame(all_cities).to_csv(\"../data/votes.csv\", index=False)\n",
    "pd.DataFrame(all_cities_16).to_csv(\"../data/votes_16.csv\", index=False)\n",
    "pd.DataFrame(all_cities_named).to_csv(\"../data/votes_c.csv\", index=False)"
   ],
   "id": "3ef77d90c7445670",
   "outputs": [],
   "execution_count": 14
  }
 ],
 "metadata": {
  "kernelspec": {
   "display_name": "Python 3",
   "language": "python",
   "name": "python3"
  },
  "language_info": {
   "codemirror_mode": {
    "name": "ipython",
    "version": 2
   },
   "file_extension": ".py",
   "mimetype": "text/x-python",
   "name": "python",
   "nbconvert_exporter": "python",
   "pygments_lexer": "ipython2",
   "version": "2.7.6"
  }
 },
 "nbformat": 4,
 "nbformat_minor": 5
}
