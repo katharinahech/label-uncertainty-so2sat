{
 "cells": [
  {
   "cell_type": "code",
   "id": "initial_id",
   "metadata": {
    "collapsed": true,
    "jupyter": {
     "is_executing": true
    }
   },
   "source": [
    "# imports \n",
    "\n",
    "from src import sem_functions, city_functions, expert_functions\n",
    "import importlib\n",
    "\n",
    "importlib.reload(sem_functions)\n",
    "\n",
    "from src.sem_functions import *\n",
    "from src.city_functions import *\n",
    "from src.expert_functions import *\n",
    "import numpy as np\n",
    "import pandas as pd\n",
    "import seaborn as sns\n",
    "import pickle\n",
    "from matplotlib import pyplot as plt\n",
    "import warnings\n",
    "warnings.filterwarnings('ignore')\n",
    "\n",
    "from IPython.core.interactiveshell import InteractiveShell\n",
    "InteractiveShell.ast_node_interactivity = \"all\""
   ],
   "outputs": [],
   "execution_count": null
  },
  {
   "metadata": {
    "ExecuteTime": {
     "end_time": "2024-07-03T12:12:14.077093Z",
     "start_time": "2024-07-03T12:12:13.834142Z"
    }
   },
   "cell_type": "code",
   "source": [
    "# import csv \n",
    "\n",
    "cities_one_hot_16 = pd.read_csv('/Users/katharina/Documents/PhD/Scripts_Paper_1/label_uncertainty_so2sat/data/cities_one_hot_16.csv').to_numpy()\n",
    "cities_one_hot_named_16 = pd.read_csv('/Users/katharina/Documents/PhD/Scripts_Paper_1/label_uncertainty_so2sat/data/cities_one_hot_named_16.csv')\n",
    "all_cities_16 = pd.read_csv('/Users/katharina/Documents/PhD/Scripts_Paper_1/label_uncertainty_so2sat/data/all_cities_16.csv').to_numpy()"
   ],
   "id": "23786bb6f0db2b2e",
   "outputs": [],
   "execution_count": 3
  },
  {
   "metadata": {},
   "cell_type": "markdown",
   "source": "## 1. Outer Bootstrap Loops for Expert Heterogeneity      ",
   "id": "fd63fadbc150b534"
  },
  {
   "metadata": {},
   "cell_type": "markdown",
   "source": "### 1.1 Computations",
   "id": "fab64d74309c51ae"
  },
  {
   "metadata": {},
   "cell_type": "markdown",
   "source": "",
   "id": "8f377e6a752baee1"
  },
  {
   "metadata": {},
   "cell_type": "code",
   "outputs": [],
   "execution_count": null,
   "source": "# run B=3 outer bootstrap loops for full data and expert-specific data",
   "id": "ee0891739b126951"
  },
  {
   "metadata": {
    "jupyter": {
     "is_executing": true
    },
    "ExecuteTime": {
     "start_time": "2024-07-03T12:12:26.012547Z"
    }
   },
   "cell_type": "code",
   "source": [
    "# \"full\"\n",
    "\n",
    "list_indices_bootstrap = []\n",
    "list_sem_16_bootstrap = []\n",
    "\n",
    "B=3\n",
    "b=0\n",
    "\n",
    "while b<B:\n",
    "    print('bootstrap iteration: ', b)\n",
    "\n",
    "    N = len(cities_one_hot_16)\n",
    "    ind_B = np.random.choice(N, size=N, replace=True)\n",
    "    cities_one_hot_16_B = cities_one_hot_16[ind_B,:]\n",
    "    sem_16_bootstrap = sem_fit_var(cities_one_hot_16_B, K=16, max_iter=20, rtol=1e-3, restarts=5)\n",
    "\n",
    "    list_indices_bootstrap.append(ind_B)\n",
    "    list_sem_16_bootstrap.append(sem_16_bootstrap)\n",
    "\n",
    "    b=b+1"
   ],
   "id": "6421cb6d0f7d6d72",
   "outputs": [
    {
     "name": "stdout",
     "output_type": "stream",
     "text": [
      "bootstrap iteration:  0\n",
      "iteration 0\n",
      "Loss: -549891.702612\n",
      "Loss: -549366.684947\n",
      "Loss: -549329.212762\n",
      "better loss on iteration 0: -549329.2127615635\n",
      "iteration 1\n",
      "Loss: -549951.274636\n",
      "Loss: -549378.050579\n",
      "Loss: -549308.370258\n",
      "better loss on iteration 1: -549308.3702582411\n",
      "iteration 2\n",
      "Loss: -549881.663875\n",
      "Loss: -549553.823622\n",
      "Loss: -549331.818396\n",
      "iteration 3\n",
      "Loss: -549915.561732\n",
      "Loss: -549327.295745\n",
      "Loss: -549376.631943\n",
      "iteration 4\n"
     ]
    }
   ],
   "execution_count": null
  },
  {
   "metadata": {
    "ExecuteTime": {
     "end_time": "2024-07-03T12:49:21.017986Z",
     "start_time": "2024-07-03T12:49:20.660762Z"
    }
   },
   "cell_type": "code",
   "source": [
    "# save results\n",
    "pi_bootstrap=[]\n",
    "theta_bootstrap=[]\n",
    "tau_bootstrap_org = []\n",
    "tau_bootstrap=[]\n",
    "b=0\n",
    "\n",
    "for sem in list_sem_16_bootstrap:\n",
    "    pi_bootstrap.append(sem[1])\n",
    "    theta_bootstrap.append(sem[2])\n",
    "    tau_bootstrap_org.append(sem[4])\n",
    "    ind_B = list_indices_bootstrap[b]\n",
    "    tau_bootstrap.append(e_step_nozerocorrection(cities_one_hot_16[ind_B,:], sem[1], sem[2]))\n",
    "    b=b+1"
   ],
   "id": "515b3dea113c1d45",
   "outputs": [
    {
     "ename": "NameError",
     "evalue": "name 'list_sem_16_bootstrap' is not defined",
     "output_type": "error",
     "traceback": [
      "\u001B[0;31m---------------------------------------------------------------------------\u001B[0m",
      "\u001B[0;31mNameError\u001B[0m                                 Traceback (most recent call last)",
      "Cell \u001B[0;32mIn[1], line 8\u001B[0m\n\u001B[1;32m      5\u001B[0m tau_bootstrap\u001B[38;5;241m=\u001B[39m[]\n\u001B[1;32m      6\u001B[0m b\u001B[38;5;241m=\u001B[39m\u001B[38;5;241m0\u001B[39m\n\u001B[0;32m----> 8\u001B[0m \u001B[38;5;28;01mfor\u001B[39;00m sem \u001B[38;5;129;01min\u001B[39;00m list_sem_16_bootstrap:\n\u001B[1;32m      9\u001B[0m     pi_bootstrap\u001B[38;5;241m.\u001B[39mappend(sem[\u001B[38;5;241m1\u001B[39m])\n\u001B[1;32m     10\u001B[0m     theta_bootstrap\u001B[38;5;241m.\u001B[39mappend(sem[\u001B[38;5;241m2\u001B[39m])\n",
      "\u001B[0;31mNameError\u001B[0m: name 'list_sem_16_bootstrap' is not defined"
     ]
    }
   ],
   "execution_count": 1
  },
  {
   "metadata": {},
   "cell_type": "code",
   "outputs": [],
   "execution_count": null,
   "source": [
    "# \"experts\"\n",
    "\n",
    "one_hot_experts = expert_data(all_cities_16, cities_one_hot_16)\n",
    "list_sem_16_experts_bootstrap = []\n",
    "\n",
    "for b in range(len(list_sem_16_bootstrap)):\n",
    "\n",
    "    print('bootstrap iteration: ', b)\n",
    "    ind_B = list_indices_bootstrap[b]\n",
    "\n",
    "    one_hot_experts_bootstrap = []\n",
    "    for data in one_hot_experts:\n",
    "        one_hot_experts_bootstrap.append(data[ind_B])\n",
    "\n",
    "    sem_16_experts = expert_sem(one_hot_experts_bootstrap, K=16, rtol=1e-3, max_iter=50, restarts=5)\n",
    "\n",
    "    list_sem_16_experts_bootstrap.append(sem_16_experts)"
   ],
   "id": "c33f5e803dd136b2"
  },
  {
   "metadata": {},
   "cell_type": "code",
   "outputs": [],
   "execution_count": null,
   "source": [
    "# save results \n",
    "list_pi_b_experts=[]\n",
    "list_theta_b_experts=[]\n",
    "list_tau_b_experts_org = []\n",
    "list_tau_b_experts=[]\n",
    "\n",
    "b=0\n",
    "for sem_boot in list_sem_16_experts_bootstrap:\n",
    "\n",
    "    ind_B = list_indices_bootstrap[b]\n",
    "    pi_b_experts=[]\n",
    "    theta_b_experts=[]\n",
    "    tau_b_experts_org = []\n",
    "    tau_b_experts=[]\n",
    "\n",
    "    j=0\n",
    "    for sem in sem_boot:\n",
    "        pi_b_experts.append(sem[1])\n",
    "        theta_b_experts.append(sem[2])\n",
    "        tau_b_experts_org.append(sem[4])\n",
    "        tau_b_experts.append(e_step_nozerocorrection(one_hot_experts[j][ind_B,:], sem[1], sem[2]))\n",
    "        j=j+1\n",
    "\n",
    "    list_pi_b_experts.append(pi_b_experts)\n",
    "    list_theta_b_experts.append(theta_b_experts)\n",
    "    list_tau_b_experts_org.append(tau_b_experts_org)\n",
    "    list_tau_b_experts.append(tau_b_experts)\n",
    "\n",
    "    b=b+1"
   ],
   "id": "1de1bbf908fa5c36"
  },
  {
   "metadata": {},
   "cell_type": "markdown",
   "source": "### 1.2 Results ",
   "id": "1f88830ac0d61d00"
  },
  {
   "metadata": {},
   "cell_type": "code",
   "outputs": [],
   "execution_count": null,
   "source": "### Outer Bootstrap: 0",
   "id": "cdbb0f335f95147"
  },
  {
   "metadata": {},
   "cell_type": "code",
   "outputs": [],
   "execution_count": null,
   "source": [
    "outer_b=0\n",
    "bootstrap_sem = list_sem_16_experts_bootstrap[outer_b]\n",
    "bootstrap_tau_experts = list_tau_b_experts[outer_b]\n",
    "outer_bootstrap_ind = list_indices_bootstrap[outer_b]"
   ],
   "id": "4411b61e0a153367"
  },
  {
   "metadata": {},
   "cell_type": "code",
   "outputs": [],
   "execution_count": null,
   "source": [
    "# original stats for all experts j \n",
    "\n",
    "K=16\n",
    "\n",
    "log_LH_list_B0 = []\n",
    "\n",
    "for j in range(11):\n",
    "    print('expert ', j)\n",
    "    tau_j = bootstrap_tau_experts[j]\n",
    "    e_votes = all_cities_16[outer_bootstrap_ind,j]\n",
    "\n",
    "    log_LH_j_i = [np.sum([0 if tau_j[i,k] == 0\n",
    "                          else 1*np.log(tau_j[i,k]) if e_votes[i]==k\n",
    "    else 0*np.log(tau_j[i,k]) for k in range(K)]) for i in range(len(e_votes))]\n",
    "\n",
    "    log_LH_list_B0.append(np.sum(log_LH_j_i))"
   ],
   "id": "4923d0fceea371a6"
  },
  {
   "metadata": {},
   "cell_type": "code",
   "outputs": [],
   "execution_count": null,
   "source": [
    "# bootstrapping images while keeping tau fixed\n",
    "\n",
    "log_LH_boot_inner_list_B0 = []\n",
    "B_inner = 50\n",
    "\n",
    "for b in range(B_inner):\n",
    "    print('bootstrap: ', b)\n",
    "\n",
    "    N = len(all_cities_16)\n",
    "    ind_B_inner = np.random.choice(N, size=N, replace=True)\n",
    "\n",
    "    log_LH_b_inner = []\n",
    "\n",
    "    for j in range(11):\n",
    "        print('expert ', j)\n",
    "        tau_j = bootstrap_tau_experts[j][ind_B_inner]\n",
    "        e_votes = all_cities_16[outer_bootstrap_ind[ind_B_inner],j]\n",
    "\n",
    "        log_LH_j_i = [np.sum([0 if tau_j[i,k] == 0\n",
    "                              else 1*np.log(tau_j[i,k]) if e_votes[i]==k\n",
    "        else 0*np.log(tau_j[i,k]) for k in range(K)]) for i in range(len(e_votes))]\n",
    "\n",
    "        log_LH_b_inner.append(np.sum(log_LH_j_i))\n",
    "\n",
    "    log_LH_boot_inner_list_B0.append(log_LH_b_inner)"
   ],
   "id": "c1ab7d7b17e790c5"
  },
  {
   "metadata": {},
   "cell_type": "code",
   "outputs": [],
   "execution_count": null,
   "source": [
    "# extract arrays of original and bootstrapped values \n",
    "expert_bootstrapped_vals_B0 = []\n",
    "\n",
    "for j in range(11):\n",
    "    vals = []\n",
    "    for b in log_LH_boot_inner_list_B0:\n",
    "        vals.append(-b[j])\n",
    "    expert_bootstrapped_vals_B0.append(vals)"
   ],
   "id": "b17f48741c3de079"
  },
  {
   "metadata": {},
   "cell_type": "code",
   "outputs": [],
   "execution_count": null,
   "source": [
    "# look at pairwise differences \n",
    "d_j_list_B0 = []\n",
    "for j in range(11):\n",
    "    x_j = -log_LH_list_B0[j]\n",
    "    sum_j = (-np.sum(log_LH_list_B0) - x_j)/10\n",
    "    d_j = np.abs(x_j - sum_j)\n",
    "    d_j_list_B0.append(d_j)\n",
    "\n",
    "d_j_list_bootstrapped_B0 = []\n",
    "for log_LH in log_LH_boot_inner_list_B0:\n",
    "\n",
    "    d_j_list_b = []\n",
    "    for j in range(11):\n",
    "        x_j_b = -log_LH[j]\n",
    "        sum_j_b = (-np.sum(log_LH) - x_j_b)/10\n",
    "        d_j_b = np.abs(x_j_b - sum_j_b)\n",
    "        d_j_list_b.append(d_j_b)\n",
    "\n",
    "    d_j_list_bootstrapped_B0.append(d_j_list_b)\n",
    "\n",
    "# extract arrays of original and bootstrapped values \n",
    "\n",
    "expert_bootstrapped_distances_B0 = []\n",
    "\n",
    "for j in range(11):\n",
    "    d_vals = []\n",
    "    for d in d_j_list_bootstrapped_B0:\n",
    "        d_vals.append(d[j])\n",
    "    expert_bootstrapped_distances_B0.append(d_vals)"
   ],
   "id": "454897248b13df3f"
  },
  {
   "metadata": {},
   "cell_type": "code",
   "outputs": [],
   "execution_count": null,
   "source": [
    "from matplotlib.pyplot import figure\n",
    "figure(figsize=(12, 8), dpi=80)\n",
    "for j in range(len(expert_bootstrapped_distances_B0)):\n",
    "    sns.set_style('whitegrid')\n",
    "    sns.kdeplot(np.array(expert_bootstrapped_distances_B0[j]), bw=0.5,label=j+1)\n",
    "plt.legend()\n",
    "plt.show()"
   ],
   "id": "12589181ebd23b87"
  },
  {
   "metadata": {},
   "cell_type": "code",
   "outputs": [],
   "execution_count": null,
   "source": [
    "### Outer Bootstrap 1+2\n",
    "\n",
    "# repeat above "
   ],
   "id": "bcd3b99ca3525b94"
  },
  {
   "metadata": {},
   "cell_type": "markdown",
   "source": "## 2. Outer Bootstrap Loop for City Differences ",
   "id": "a0846f034ddea0f7"
  }
 ],
 "metadata": {
  "kernelspec": {
   "display_name": "Python 3",
   "language": "python",
   "name": "python3"
  },
  "language_info": {
   "codemirror_mode": {
    "name": "ipython",
    "version": 2
   },
   "file_extension": ".py",
   "mimetype": "text/x-python",
   "name": "python",
   "nbconvert_exporter": "python",
   "pygments_lexer": "ipython2",
   "version": "2.7.6"
  }
 },
 "nbformat": 4,
 "nbformat_minor": 5
}
